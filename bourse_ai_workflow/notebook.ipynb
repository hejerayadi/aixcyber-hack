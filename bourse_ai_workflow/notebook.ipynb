{
 "cells": [
  {
   "cell_type": "code",
   "execution_count": 24,
   "id": "73806e70",
   "metadata": {},
   "outputs": [
    {
     "name": "stdout",
     "output_type": "stream",
     "text": [
      "                        Date      Open      High       Low     Close  \\\n",
      "0  1980-12-12 00:00:00-05:00  0.098485  0.098913  0.098485  0.098485   \n",
      "1  1980-12-15 00:00:00-05:00  0.093775  0.093775  0.093347  0.093347   \n",
      "2  1980-12-16 00:00:00-05:00  0.086924  0.086924  0.086495  0.086495   \n",
      "3  1980-12-17 00:00:00-05:00  0.088636  0.089064  0.088636  0.088636   \n",
      "4  1980-12-18 00:00:00-05:00  0.091206  0.091634  0.091206  0.091206   \n",
      "\n",
      "      Volume  Dividends  Stock Splits Ticker  \n",
      "0  469033600        0.0           0.0   AAPL  \n",
      "1  175884800        0.0           0.0   AAPL  \n",
      "2  105728000        0.0           0.0   AAPL  \n",
      "3   86441600        0.0           0.0   AAPL  \n",
      "4   73449600        0.0           0.0   AAPL  \n",
      "<class 'pandas.core.frame.DataFrame'>\n",
      "RangeIndex: 42665 entries, 0 to 42664\n",
      "Data columns (total 9 columns):\n",
      " #   Column        Non-Null Count  Dtype  \n",
      "---  ------        --------------  -----  \n",
      " 0   Date          42665 non-null  object \n",
      " 1   Open          42665 non-null  float64\n",
      " 2   High          42665 non-null  float64\n",
      " 3   Low           42665 non-null  float64\n",
      " 4   Close         42665 non-null  float64\n",
      " 5   Volume        42665 non-null  int64  \n",
      " 6   Dividends     42665 non-null  float64\n",
      " 7   Stock Splits  42665 non-null  float64\n",
      " 8   Ticker        42665 non-null  object \n",
      "dtypes: float64(6), int64(1), object(2)\n",
      "memory usage: 2.9+ MB\n",
      "None\n"
     ]
    },
    {
     "name": "stderr",
     "output_type": "stream",
     "text": [
      "C:\\Users\\hejer\\AppData\\Local\\Temp\\ipykernel_13480\\1911822711.py:7: FutureWarning: In a future version of pandas, parsing datetimes with mixed time zones will raise an error unless `utc=True`. Please specify `utc=True` to opt in to the new behaviour and silence this warning. To create a `Series` with mixed offsets and `object` dtype, please use `apply` and `datetime.datetime.strptime`\n",
      "  df['Date'] = pd.to_datetime(df['Date'])\n"
     ]
    }
   ],
   "source": [
    "import pandas as pd\n",
    "\n",
    "# Load dataset\n",
    "df = pd.read_csv(\"all_stocks.csv\")\n",
    "\n",
    "# Convert Date to datetime\n",
    "df['Date'] = pd.to_datetime(df['Date'])\n",
    "\n",
    "# Sort by ticker and date\n",
    "df = df.sort_values(by=['Ticker', 'Date']).reset_index(drop=True)\n",
    "\n",
    "# Preview\n",
    "print(df.head())\n",
    "print(df.info())\n"
   ]
  },
  {
   "cell_type": "markdown",
   "id": "70a7e6df",
   "metadata": {},
   "source": [
    "date processing"
   ]
  },
  {
   "cell_type": "code",
   "execution_count": 25,
   "id": "e1c49395",
   "metadata": {},
   "outputs": [
    {
     "name": "stdout",
     "output_type": "stream",
     "text": [
      "                 Date      Open      High       Low     Close     Volume  \\\n",
      "0 1980-12-12 05:00:00  0.098485  0.098913  0.098485  0.098485  469033600   \n",
      "1 1980-12-15 05:00:00  0.093775  0.093775  0.093347  0.093347  175884800   \n",
      "2 1980-12-16 05:00:00  0.086924  0.086924  0.086495  0.086495  105728000   \n",
      "3 1980-12-17 05:00:00  0.088636  0.089064  0.088636  0.088636   86441600   \n",
      "4 1980-12-18 05:00:00  0.091206  0.091634  0.091206  0.091206   73449600   \n",
      "\n",
      "   Dividends  Stock Splits Ticker  year  month  day  day_of_week  \\\n",
      "0        0.0           0.0   AAPL  1980     12   12            4   \n",
      "1        0.0           0.0   AAPL  1980     12   15            0   \n",
      "2        0.0           0.0   AAPL  1980     12   16            1   \n",
      "3        0.0           0.0   AAPL  1980     12   17            2   \n",
      "4        0.0           0.0   AAPL  1980     12   18            3   \n",
      "\n",
      "   is_month_start  is_month_end     month_sin  month_cos   dow_sin   dow_cos  \n",
      "0               0             0 -2.449294e-16        1.0 -0.433884 -0.900969  \n",
      "1               0             0 -2.449294e-16        1.0  0.000000  1.000000  \n",
      "2               0             0 -2.449294e-16        1.0  0.781831  0.623490  \n",
      "3               0             0 -2.449294e-16        1.0  0.974928 -0.222521  \n",
      "4               0             0 -2.449294e-16        1.0  0.433884 -0.900969  \n"
     ]
    }
   ],
   "source": [
    "import pandas as pd\n",
    "import numpy as np\n",
    "\n",
    "# Convert Date to datetime and remove timezone (tz-naive)\n",
    "df['Date'] = pd.to_datetime(df['Date'], utc=True).dt.tz_convert(None)\n",
    "\n",
    "# Extract main date features\n",
    "df['year'] = df['Date'].dt.year\n",
    "df['month'] = df['Date'].dt.month\n",
    "df['day'] = df['Date'].dt.day\n",
    "df['day_of_week'] = df['Date'].dt.dayofweek   # Monday=0\n",
    "df['is_month_start'] = df['Date'].dt.is_month_start.astype(int)\n",
    "df['is_month_end'] = df['Date'].dt.is_month_end.astype(int)\n",
    "\n",
    "# Optional: cyclical encoding\n",
    "df['month_sin'] = np.sin(2 * np.pi * df['month'] / 12)\n",
    "df['month_cos'] = np.cos(2 * np.pi * df['month'] / 12)\n",
    "df['dow_sin'] = np.sin(2 * np.pi * df['day_of_week'] / 7)\n",
    "df['dow_cos'] = np.cos(2 * np.pi * df['day_of_week'] / 7)\n",
    "\n",
    "print(df.head())\n"
   ]
  },
  {
   "cell_type": "markdown",
   "id": "679133fa",
   "metadata": {},
   "source": [
    "#ENCODE"
   ]
  },
  {
   "cell_type": "code",
   "execution_count": 26,
   "id": "db673c5c",
   "metadata": {},
   "outputs": [
    {
     "name": "stdout",
     "output_type": "stream",
     "text": [
      "Ticker -> Numeric label mapping:\n",
      "{'AAPL': 0, 'GOOG': 1, 'IBM': 2, 'MSFT': 3}\n"
     ]
    }
   ],
   "source": [
    "from sklearn.preprocessing import LabelEncoder\n",
    "\n",
    "# Fit the encoder on the Ticker column\n",
    "encoder = LabelEncoder()\n",
    "df['Ticker_encoded'] = encoder.fit_transform(df['Ticker'])\n",
    "\n",
    "# See the mapping\n",
    "mapping = dict(zip(encoder.classes_, range(len(encoder.classes_))))\n",
    "print(\"Ticker -> Numeric label mapping:\")\n",
    "print(mapping)\n",
    "\n",
    "# Preview a few rows\n"
   ]
  },
  {
   "cell_type": "code",
   "execution_count": 27,
   "id": "8b4349ff",
   "metadata": {},
   "outputs": [],
   "source": [
    "from sklearn.preprocessing import MinMaxScaler\n",
    "\n",
    "scaler = MinMaxScaler()\n",
    "num_cols = ['Open', 'High', 'Low', 'Close', 'Volume']\n",
    "df[num_cols] = scaler.fit_transform(df[num_cols])\n"
   ]
  },
  {
   "cell_type": "markdown",
   "id": "9af3381e",
   "metadata": {},
   "source": [
    "Define the window size"
   ]
  },
  {
   "cell_type": "code",
   "execution_count": 28,
   "id": "d883373d",
   "metadata": {},
   "outputs": [],
   "source": [
    "window_size = 30  # use past 30 days to predict the next day\n"
   ]
  },
  {
   "cell_type": "code",
   "execution_count": 29,
   "id": "61fb7ac3",
   "metadata": {},
   "outputs": [
    {
     "name": "stdout",
     "output_type": "stream",
     "text": [
      "X shape: (42545, 30, 10)\n",
      "y shape: (42545,)\n"
     ]
    }
   ],
   "source": [
    "import numpy as np\n",
    "\n",
    "def create_time_windows(df, window_size=30):\n",
    "    X, y = [], []\n",
    "    \n",
    "    # Select features including ticker and cyclical time features\n",
    "    feature_cols = ['Open','High','Low','Close','Volume',\n",
    "                    'Ticker_encoded','month_sin','month_cos','dow_sin','dow_cos']\n",
    "    \n",
    "    features = df[feature_cols].values\n",
    "    \n",
    "    for i in range(window_size, len(features)):\n",
    "        X.append(features[i-window_size:i])  # past N days\n",
    "        y.append(features[i, 3])  # Close is at index 3\n",
    "    \n",
    "    return np.array(X), np.array(y)\n",
    "\n",
    "# Apply per ticker and combine\n",
    "X_all, y_all = [], []\n",
    "\n",
    "for ticker, group in df.groupby('Ticker'):\n",
    "    group = group.sort_values('Date')\n",
    "    X, y = create_time_windows(group, window_size)\n",
    "    X_all.append(X)\n",
    "    y_all.append(y)\n",
    "\n",
    "# Combine all tickers into one dataset\n",
    "X = np.concatenate(X_all)\n",
    "y = np.concatenate(y_all)\n",
    "\n",
    "print(\"X shape:\", X.shape)\n",
    "print(\"y shape:\", y.shape)\n"
   ]
  },
  {
   "cell_type": "markdown",
   "id": "39db9118",
   "metadata": {},
   "source": [
    "42545 → number of samples (sliding windows)\n",
    "\n",
    "30 → window size = each sample contains 30 past days\n",
    "\n",
    "10 → number of features per day:"
   ]
  },
  {
   "cell_type": "code",
   "execution_count": 30,
   "id": "b3a81419",
   "metadata": {},
   "outputs": [
    {
     "name": "stdout",
     "output_type": "stream",
     "text": [
      "X_train: (34036, 30, 10)\n",
      "X_test: (8509, 30, 10)\n",
      "y_train: (34036,)\n",
      "y_test: (8509,)\n"
     ]
    }
   ],
   "source": [
    "split = int(0.8 * len(X))\n",
    "X_train, X_test = X[:split], X[split:]\n",
    "y_train, y_test = y[:split], y[split:]\n",
    "\n",
    "print(\"X_train:\", X_train.shape)\n",
    "print(\"X_test:\", X_test.shape)\n",
    "print(\"y_train:\", y_train.shape)\n",
    "print(\"y_test:\", y_test.shape)\n"
   ]
  },
  {
   "cell_type": "code",
   "execution_count": 31,
   "id": "c3dd543e",
   "metadata": {},
   "outputs": [],
   "source": [
    "import torch\n",
    "from torch.utils.data import Dataset, DataLoader\n",
    "\n",
    "class StockDataset(Dataset):\n",
    "    def __init__(self, X, y):\n",
    "        self.X = torch.tensor(X, dtype=torch.float32)\n",
    "        self.y = torch.tensor(y, dtype=torch.float32)\n",
    "        \n",
    "    def __len__(self):\n",
    "        return len(self.X)\n",
    "    \n",
    "    def __getitem__(self, idx):\n",
    "        return self.X[idx], self.y[idx]\n"
   ]
  },
  {
   "cell_type": "code",
   "execution_count": 44,
   "id": "313184b0",
   "metadata": {},
   "outputs": [],
   "source": [
    "split = int(0.8 * len(X))\n",
    "X_train, X_test = X[:split], X[split:]\n",
    "y_train, y_test = y[:split], y[split:]\n",
    "\n",
    "train_dataset = StockDataset(X_train, y_train)\n",
    "test_dataset = StockDataset(X_test, y_test)\n",
    "\n",
    "train_loader = DataLoader(train_dataset, batch_size=50, shuffle=False)\n",
    "test_loader = DataLoader(test_dataset, batch_size=50, shuffle=False)\n"
   ]
  },
  {
   "cell_type": "code",
   "execution_count": 45,
   "id": "347f2b19",
   "metadata": {},
   "outputs": [],
   "source": [
    "import torch.nn as nn\n",
    "\n",
    "class LSTMModel(nn.Module):\n",
    "    def __init__(self, input_size, hidden_size1=64, hidden_size2=32):\n",
    "        super(LSTMModel, self).__init__()\n",
    "        self.lstm1 = nn.LSTM(input_size, hidden_size1, batch_first=True)\n",
    "        self.lstm2 = nn.LSTM(hidden_size1, hidden_size2, batch_first=True)\n",
    "        self.fc = nn.Linear(hidden_size2, 1)\n",
    "    \n",
    "    def forward(self, x):\n",
    "        out, _ = self.lstm1(x)\n",
    "        out, _ = self.lstm2(out)\n",
    "        # take last time step\n",
    "        out = out[:, -1, :]\n",
    "        out = self.fc(out)\n",
    "        return out\n"
   ]
  },
  {
   "cell_type": "code",
   "execution_count": 47,
   "id": "3135496d",
   "metadata": {},
   "outputs": [
    {
     "name": "stdout",
     "output_type": "stream",
     "text": [
      "Epoch 1/20, Train Loss: 0.010518\n",
      "Epoch 2/20, Train Loss: 0.010096\n",
      "Epoch 3/20, Train Loss: 0.009702\n",
      "Epoch 4/20, Train Loss: 0.009316\n",
      "Epoch 5/20, Train Loss: 0.008904\n",
      "Epoch 6/20, Train Loss: 0.008434\n",
      "Epoch 7/20, Train Loss: 0.007868\n",
      "Epoch 8/20, Train Loss: 0.007160\n",
      "Epoch 9/20, Train Loss: 0.006250\n",
      "Epoch 10/20, Train Loss: 0.005065\n",
      "Epoch 11/20, Train Loss: 0.003558\n",
      "Epoch 12/20, Train Loss: 0.001893\n",
      "Epoch 13/20, Train Loss: 0.000680\n",
      "Epoch 14/20, Train Loss: 0.000259\n",
      "Epoch 15/20, Train Loss: 0.000166\n",
      "Epoch 16/20, Train Loss: 0.000127\n",
      "Epoch 17/20, Train Loss: 0.000102\n",
      "Epoch 18/20, Train Loss: 0.000084\n",
      "Epoch 19/20, Train Loss: 0.000070\n",
      "Epoch 20/20, Train Loss: 0.000059\n"
     ]
    }
   ],
   "source": [
    "device = torch.device(\"cuda\" if torch.cuda.is_available() else \"cpu\")\n",
    "model = LSTMModel(input_size=X_train.shape[2]).to(device)\n",
    "criterion = nn.MSELoss()\n",
    "optimizer = torch.optim.Adam(model.parameters(), lr=0.00001)\n",
    "\n",
    "epochs = 20\n",
    "\n",
    "for epoch in range(epochs):\n",
    "    model.train()\n",
    "    train_loss = 0\n",
    "    \n",
    "    for X_batch, y_batch in train_loader:\n",
    "        X_batch, y_batch = X_batch.to(device), y_batch.to(device)\n",
    "        optimizer.zero_grad()\n",
    "        y_pred = model(X_batch).squeeze()\n",
    "        loss = criterion(y_pred, y_batch)\n",
    "        loss.backward()\n",
    "        optimizer.step()\n",
    "        train_loss += loss.item() * X_batch.size(0)\n",
    "    \n",
    "    train_loss /= len(train_loader.dataset)\n",
    "    print(f\"Epoch {epoch+1}/{epochs}, Train Loss: {train_loss:.6f}\")\n"
   ]
  },
  {
   "cell_type": "code",
   "execution_count": 48,
   "id": "30916f4b",
   "metadata": {},
   "outputs": [],
   "source": [
    "model.eval()\n",
    "y_pred_list = []\n",
    "\n",
    "with torch.no_grad():\n",
    "    for X_batch, _ in test_loader:\n",
    "        X_batch = X_batch.to(device)\n",
    "        y_pred = model(X_batch).squeeze().cpu().numpy()\n",
    "        y_pred_list.extend(y_pred)\n",
    "\n",
    "y_pred_list = np.array(y_pred_list)\n"
   ]
  },
  {
   "cell_type": "code",
   "execution_count": 49,
   "id": "4f8610a2",
   "metadata": {},
   "outputs": [],
   "source": [
    "# Only inverse the Close column\n",
    "y_pred_real = scaler.inverse_transform(\n",
    "    np.concatenate([\n",
    "        np.zeros((len(y_pred_list), 3)),  # dummy Open, High, Low\n",
    "        y_pred_list.reshape(-1,1),\n",
    "        np.zeros((len(y_pred_list), 1))   # dummy Volume\n",
    "    ], axis=1)\n",
    ")[:, 3]\n",
    "\n",
    "y_test_real = scaler.inverse_transform(\n",
    "    np.concatenate([\n",
    "        np.zeros((len(y_test), 3)),\n",
    "        y_test.reshape(-1,1),\n",
    "        np.zeros((len(y_test), 1))\n",
    "    ], axis=1)\n",
    ")[:, 3]\n"
   ]
  },
  {
   "cell_type": "code",
   "execution_count": 50,
   "id": "273836e7",
   "metadata": {},
   "outputs": [
    {
     "data": {
      "image/png": "[encoded data removed]",
      "text/plain": [
       "<Figure size 1200x600 with 1 Axes>"
      ]
     },
     "metadata": {},
     "output_type": "display_data"
    }
   ],
   "source": [
    "import matplotlib.pyplot as plt\n",
    "\n",
    "plt.figure(figsize=(12,6))\n",
    "plt.plot(y_test_real, label='Actual Close')\n",
    "plt.plot(y_pred_real, label='Predicted Close')\n",
    "plt.title('Daily Close Price Prediction')\n",
    "plt.xlabel('Time')\n",
    "plt.ylabel('Close Price')\n",
    "plt.legend()\n",
    "plt.show()\n"
   ]
  },
  {
   "cell_type": "code",
   "execution_count": 51,
   "id": "c5a2026f",
   "metadata": {},
   "outputs": [
    {
     "name": "stdout",
     "output_type": "stream",
     "text": [
      "R² Score (proxy for accuracy): 0.9700414668808303\n"
     ]
    }
   ],
   "source": [
    "from sklearn.metrics import r2_score\n",
    "\n",
    "r2 = r2_score(y_test_real, y_pred_real)\n",
    "print(\"R² Score (proxy for accuracy):\", r2)\n"
   ]
  },
  {
   "cell_type": "code",
   "execution_count": 52,
   "id": "6230786c",
   "metadata": {},
   "outputs": [
    {
     "name": "stdout",
     "output_type": "stream",
     "text": [
      "MSE: 408.8465927649777\n"
     ]
    }
   ],
   "source": [
    "from sklearn.metrics import mean_squared_error\n",
    "mse = mean_squared_error(y_test_real, y_pred_real)\n",
    "print(\"MSE:\", mse)\n"
   ]
  },
  {
   "cell_type": "code",
   "execution_count": 54,
   "id": "08a1be95",
   "metadata": {},
   "outputs": [],
   "source": [
    "import torch\n",
    "\n",
    "# Save the model\n",
    "torch.save(model.state_dict(), \"second_model_lstm.pth\")\n"
   ]
  },
  {
   "cell_type": "code",
   "execution_count": 55,
   "id": "a495c4e1",
   "metadata": {},
   "outputs": [],
   "source": [
    "import pickle\n",
    "\n",
    "with open(\"second_model_scaler.pkl\", \"wb\") as f:\n",
    "    pickle.dump(scaler, f)\n"
   ]
  },
  {
   "cell_type": "code",
   "execution_count": 71,
   "id": "ced80019",
   "metadata": {},
   "outputs": [
    {
     "name": "stdout",
     "output_type": "stream",
     "text": [
      "X shape: (42545, 30, 10)\n",
      "y shape: (42545,)\n",
      "\n",
      "First window of features (X[0]):\n",
      "[[ 1.08925961e-04  1.09654984e-04  1.14510233e-04  1.13710627e-04\n",
      "   6.31981003e-02  0.00000000e+00 -2.44929360e-16  1.00000000e+00\n",
      "  -4.33883739e-01 -9.00968868e-01]\n",
      " [ 1.00428764e-04  1.00388979e-04  1.04833952e-04  1.04101913e-04\n",
      "   2.36989104e-02  0.00000000e+00 -2.44929360e-16  1.00000000e+00\n",
      "   0.00000000e+00  1.00000000e+00]\n",
      " [ 8.80677369e-05  8.80328480e-05  9.19307327e-05  9.12887954e-05\n",
      "   1.42459064e-02  0.00000000e+00 -2.44929360e-16  1.00000000e+00\n",
      "   7.81831482e-01  6.23489802e-01]\n",
      " [ 9.11576462e-05  9.18937084e-05  9.59625318e-05  9.52924411e-05\n",
      "   1.16472357e-02  0.00000000e+00 -2.44929360e-16  1.00000000e+00\n",
      "   9.74927912e-01 -2.22520934e-01]\n",
      " [ 9.57938359e-05  9.65280507e-05  1.00802083e-04  1.00098198e-04\n",
      "   9.89667945e-03  0.00000000e+00 -2.44929360e-16  1.00000000e+00\n",
      "   4.33883739e-01 -9.00968868e-01]\n",
      " [ 1.05836046e-04  1.06566293e-04  1.11284782e-04  1.10507699e-04\n",
      "   6.55251329e-03  0.00000000e+00 -2.44929360e-16  1.00000000e+00\n",
      "  -4.33883739e-01 -9.00968868e-01]\n",
      " [ 1.14333285e-04  1.15061547e-04  1.20154743e-04  1.19315722e-04\n",
      "   5.03435844e-03  0.00000000e+00 -2.44929360e-16  1.00000000e+00\n",
      "   0.00000000e+00  1.00000000e+00]\n",
      " [ 1.22059443e-04  1.22783263e-04  1.28219800e-04  1.27324462e-04\n",
      "   6.32614826e-03  0.00000000e+00 -2.44929360e-16  1.00000000e+00\n",
      "   7.81831482e-01  6.23489802e-01]\n",
      " [ 1.32101680e-04  1.32821522e-04  1.38702528e-04  1.37733991e-04\n",
      "   6.46800368e-03  0.00000000e+00 -2.44929360e-16  1.00000000e+00\n",
      "   9.74927912e-01 -2.22520934e-01]\n",
      " [ 1.50642352e-04  1.51354848e-04  1.58056466e-04  1.56952783e-04\n",
      "   7.48815545e-03  0.00000000e+00 -2.44929360e-16  1.00000000e+00\n",
      "  -4.33883739e-01 -9.00968868e-01]\n",
      " [ 1.53732482e-04  1.54443755e-04  1.61282141e-04  1.60155934e-04\n",
      "   1.25526959e-02  0.00000000e+00 -2.44929360e-16  1.00000000e+00\n",
      "   0.00000000e+00  1.00000000e+00]\n",
      " [ 1.49097457e-04  1.49038391e-04  1.55637462e-04  1.54550671e-04\n",
      "   9.28096655e-03  0.00000000e+00 -2.44929360e-16  1.00000000e+00\n",
      "   7.81831482e-01  6.23489802e-01]\n",
      " [ 1.42917661e-04  1.42861043e-04  1.49186575e-04  1.48144830e-04\n",
      "   4.81704800e-03  0.00000000e+00 -2.44929360e-16  1.00000000e+00\n",
      "   9.74927912e-01 -2.22520934e-01]\n",
      " [ 1.44462576e-04  1.45949696e-04  1.51605621e-04  1.50546984e-04\n",
      "   2.91859989e-03  0.00000000e+00  5.00000000e-01  8.66025404e-01\n",
      "  -4.33883739e-01 -9.00968868e-01]\n",
      " [ 1.40600164e-04  1.40544464e-04  1.46767445e-04  1.45742592e-04\n",
      "   4.81402980e-03  0.00000000e+00  5.00000000e-01  8.66025404e-01\n",
      "   0.00000000e+00  1.00000000e+00]\n",
      " [ 1.31329177e-04  1.31277149e-04  1.37089775e-04  1.36132500e-04\n",
      "   6.08469222e-03  0.00000000e+00  5.00000000e-01  8.66025404e-01\n",
      "   7.81831482e-01  6.23489802e-01]\n",
      " [ 1.22831924e-04  1.22783263e-04  1.28219800e-04  1.27324462e-04\n",
      "   7.50324645e-03  0.00000000e+00  5.00000000e-01  8.66025404e-01\n",
      "   9.74927912e-01 -2.22520934e-01]\n",
      " [ 1.18969442e-04  1.18922311e-04  1.24187917e-04  1.23320733e-04\n",
      "   5.36636050e-03  0.00000000e+00  5.00000000e-01  8.66025404e-01\n",
      "   4.33883739e-01 -9.00968868e-01]\n",
      " [ 1.28239233e-04  1.28960604e-04  1.34670659e-04  1.33730276e-04\n",
      "   2.89747248e-03  0.00000000e+00  5.00000000e-01  8.66025404e-01\n",
      "  -4.33883739e-01 -9.00968868e-01]\n",
      " [ 1.28239244e-04  1.28188440e-04  1.33057962e-04  1.32128840e-04\n",
      "   3.19325613e-03  0.00000000e+00  5.00000000e-01  8.66025404e-01\n",
      "   0.00000000e+00  1.00000000e+00]\n",
      " [ 1.20514528e-04  1.20466786e-04  1.25800755e-04  1.24922309e-04\n",
      "   3.10572832e-03  0.00000000e+00  5.00000000e-01  8.66025404e-01\n",
      "   7.81831482e-01  6.23489802e-01]\n",
      " [ 1.20514539e-04  1.21238972e-04  1.26607131e-04  1.25723054e-04\n",
      "   1.92561192e-03  0.00000000e+00  5.00000000e-01  8.66025404e-01\n",
      "   9.74927912e-01 -2.22520934e-01]\n",
      " [ 1.24376866e-04  1.25871922e-04  1.30638874e-04  1.29726644e-04\n",
      "   1.89542992e-03  0.00000000e+00  5.00000000e-01  8.66025404e-01\n",
      "   4.33883739e-01 -9.00968868e-01]\n",
      " [ 1.23604403e-04  1.23555436e-04  1.29026163e-04  1.28125194e-04\n",
      "   1.80488390e-03  0.00000000e+00  5.00000000e-01  8.66025404e-01\n",
      "  -4.33883739e-01 -9.00968868e-01]\n",
      " [ 1.34419116e-04  1.35138040e-04  1.41121616e-04  1.40136187e-04\n",
      "   5.60178013e-03  0.00000000e+00  5.00000000e-01  8.66025404e-01\n",
      "   0.00000000e+00  1.00000000e+00]\n",
      " [ 1.29011714e-04  1.28960604e-04  1.34670659e-04  1.33730276e-04\n",
      "   4.05344328e-03  0.00000000e+00  5.00000000e-01  8.66025404e-01\n",
      "   7.81831482e-01  6.23489802e-01]\n",
      " [ 1.32101680e-04  1.33593676e-04  1.38702528e-04  1.37733991e-04\n",
      "   2.14292236e-03  0.00000000e+00  5.00000000e-01  8.66025404e-01\n",
      "   9.74927912e-01 -2.22520934e-01]\n",
      " [ 1.34419116e-04  1.35910215e-04  1.41121616e-04  1.40136187e-04\n",
      "   4.78988420e-03  0.00000000e+00  5.00000000e-01  8.66025404e-01\n",
      "   4.33883739e-01 -9.00968868e-01]\n",
      " [ 1.34419038e-04  1.35137961e-04  1.40315169e-04  1.39335371e-04\n",
      "   1.51211845e-03  0.00000000e+00  5.00000000e-01  8.66025404e-01\n",
      "  -4.33883739e-01 -9.00968868e-01]\n",
      " [ 1.31329177e-04  1.31277149e-04  1.37089775e-04  1.36132500e-04\n",
      "   3.32002055e-03  0.00000000e+00  5.00000000e-01  8.66025404e-01\n",
      "   0.00000000e+00  1.00000000e+00]]\n",
      "\n",
      "Target corresponding to first window (y[0]):\n",
      "0.00013453103571531644\n",
      "\n",
      "Feature columns: ['Open', 'High', 'Low', 'Close', 'Volume', 'Ticker_encoded', 'month_sin', 'month_cos', 'dow_sin', 'dow_cos']\n",
      "\n",
      "Feature statistics:\n",
      "Open: min=0.0, max=1.0, mean=0.0795\n",
      "High: min=0.0, max=1.0, mean=0.0803\n",
      "Low: min=0.0, max=1.0, mean=0.0822\n",
      "Close: min=0.0, max=1.0, mean=0.0825\n",
      "Volume: min=0.0, max=0.9999999999999999, mean=0.0150\n",
      "Ticker_encoded: min=0.0, max=3.0, mean=1.5794\n",
      "month_sin: min=-1.0, max=1.0, mean=-0.0077\n",
      "month_cos: min=-1.0, max=1.0, mean=-0.0127\n",
      "dow_sin: min=-0.433883739117558, max=0.9749279121818236, mean=0.3602\n",
      "dow_cos: min=-0.9009688679024191, max=1.0, mean=-0.0901\n",
      "\n",
      "Target (Close) statistics:\n",
      "min=0.0, max=1.0, mean=0.0833\n"
     ]
    }
   ],
   "source": [
    "# Check shapes\n",
    "print(\"X shape:\", X.shape)  # should be (num_samples, window_size, num_features)\n",
    "print(\"y shape:\", y.shape)  # should be (num_samples,)\n",
    "\n",
    "# Look at the first sample of X and corresponding y\n",
    "print(\"\\nFirst window of features (X[0]):\")\n",
    "print(X[0])\n",
    "\n",
    "print(\"\\nTarget corresponding to first window (y[0]):\")\n",
    "print(y[0])\n",
    "\n",
    "# Check feature names and types\n",
    "feature_cols = ['Open','High','Low','Close','Volume','Ticker_encoded','month_sin','month_cos','dow_sin','dow_cos']\n",
    "print(\"\\nFeature columns:\", feature_cols)\n",
    "\n",
    "# Optional: quick statistics\n",
    "print(\"\\nFeature statistics:\")\n",
    "for i, col in enumerate(feature_cols):\n",
    "    print(f\"{col}: min={X[:,:,i].min()}, max={X[:,:,i].max()}, mean={X[:,:,i].mean():.4f}\")\n",
    "    \n",
    "print(\"\\nTarget (Close) statistics:\")\n",
    "print(f\"min={y.min()}, max={y.max()}, mean={y.mean():.4f}\")\n"
   ]
  },
  {
   "cell_type": "code",
   "execution_count": null,
   "id": "264a1fce",
   "metadata": {},
   "outputs": [],
   "source": []
  }
 ],
 "metadata": {
  "kernelspec": {
   "display_name": "Python 3",
   "language": "python",
   "name": "python3"
  },
  "language_info": {
   "codemirror_mode": {
    "name": "ipython",
    "version": 3
   },
   "file_extension": ".py",
   "mimetype": "text/x-python",
   "name": "python",
   "nbconvert_exporter": "python",
   "pygments_lexer": "ipython3",
   "version": "3.13.3"
  }
 },
 "nbformat": 4,
 "nbformat_minor": 5
}
